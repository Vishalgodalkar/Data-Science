{
 "cells": [
  {
   "cell_type": "code",
   "execution_count": 11,
   "id": "575189b0-9d55-47ac-b4d1-ddd8119ce418",
   "metadata": {},
   "outputs": [],
   "source": [
    "# Importing necessary libraries for data analysis and visualization\n",
    "import pandas as pd\n",
    "import numpy as np\n",
    "import matplotlib.pyplot as plt\n",
    "import seaborn as sns\n",
    "%matplotlib inline"
   ]
  },
  {
   "cell_type": "code",
   "execution_count": 13,
   "id": "1b615f8f-a45c-4e3b-ba46-ccaef0da7f41",
   "metadata": {},
   "outputs": [],
   "source": [
    "# Importing the warnings library and suppressing all warnings to avoid clutter in the output\n",
    "import warnings\n",
    "warnings.filterwarnings('ignore')"
   ]
  },
  {
   "cell_type": "code",
   "execution_count": 31,
   "id": "f5599cb3-05b6-4346-a312-5b3bcd4cb104",
   "metadata": {},
   "outputs": [],
   "source": [
    "# Loading the Iris dataset from a specified CSV file path into a DataFrame\n",
    "data = pd.read_csv(\"C:/Users/ML/Desktop/123B2F148/Datasets/Iris.csv\")"
   ]
  },
  {
   "cell_type": "code",
   "execution_count": 33,
   "id": "baab2935-8de9-4eec-9669-74263ce116f2",
   "metadata": {},
   "outputs": [
    {
     "data": {
      "text/plain": [
       "(150, 6)"
      ]
     },
     "execution_count": 33,
     "metadata": {},
     "output_type": "execute_result"
    }
   ],
   "source": [
    "data.shape           #150 instances and 6 variables"
   ]
  },
  {
   "cell_type": "code",
   "execution_count": 35,
   "id": "34446e02-6a8f-4ed6-9ea5-f5968e29213f",
   "metadata": {},
   "outputs": [
    {
     "data": {
      "text/html": [
       "<div>\n",
       "<style scoped>\n",
       "    .dataframe tbody tr th:only-of-type {\n",
       "        vertical-align: middle;\n",
       "    }\n",
       "\n",
       "    .dataframe tbody tr th {\n",
       "        vertical-align: top;\n",
       "    }\n",
       "\n",
       "    .dataframe thead th {\n",
       "        text-align: right;\n",
       "    }\n",
       "</style>\n",
       "<table border=\"1\" class=\"dataframe\">\n",
       "  <thead>\n",
       "    <tr style=\"text-align: right;\">\n",
       "      <th></th>\n",
       "      <th>Id</th>\n",
       "      <th>SepalLengthCm</th>\n",
       "      <th>SepalWidthCm</th>\n",
       "      <th>PetalLengthCm</th>\n",
       "      <th>PetalWidthCm</th>\n",
       "      <th>Species</th>\n",
       "    </tr>\n",
       "  </thead>\n",
       "  <tbody>\n",
       "    <tr>\n",
       "      <th>0</th>\n",
       "      <td>1</td>\n",
       "      <td>5.1</td>\n",
       "      <td>3.5</td>\n",
       "      <td>1.4</td>\n",
       "      <td>0.2</td>\n",
       "      <td>Iris-setosa</td>\n",
       "    </tr>\n",
       "    <tr>\n",
       "      <th>1</th>\n",
       "      <td>2</td>\n",
       "      <td>4.9</td>\n",
       "      <td>3.0</td>\n",
       "      <td>1.4</td>\n",
       "      <td>0.2</td>\n",
       "      <td>Iris-setosa</td>\n",
       "    </tr>\n",
       "    <tr>\n",
       "      <th>2</th>\n",
       "      <td>3</td>\n",
       "      <td>4.7</td>\n",
       "      <td>3.2</td>\n",
       "      <td>1.3</td>\n",
       "      <td>0.2</td>\n",
       "      <td>Iris-setosa</td>\n",
       "    </tr>\n",
       "    <tr>\n",
       "      <th>3</th>\n",
       "      <td>4</td>\n",
       "      <td>4.6</td>\n",
       "      <td>3.1</td>\n",
       "      <td>1.5</td>\n",
       "      <td>0.2</td>\n",
       "      <td>Iris-setosa</td>\n",
       "    </tr>\n",
       "    <tr>\n",
       "      <th>4</th>\n",
       "      <td>5</td>\n",
       "      <td>5.0</td>\n",
       "      <td>3.6</td>\n",
       "      <td>1.4</td>\n",
       "      <td>0.2</td>\n",
       "      <td>Iris-setosa</td>\n",
       "    </tr>\n",
       "  </tbody>\n",
       "</table>\n",
       "</div>"
      ],
      "text/plain": [
       "   Id  SepalLengthCm  SepalWidthCm  PetalLengthCm  PetalWidthCm      Species\n",
       "0   1            5.1           3.5            1.4           0.2  Iris-setosa\n",
       "1   2            4.9           3.0            1.4           0.2  Iris-setosa\n",
       "2   3            4.7           3.2            1.3           0.2  Iris-setosa\n",
       "3   4            4.6           3.1            1.5           0.2  Iris-setosa\n",
       "4   5            5.0           3.6            1.4           0.2  Iris-setosa"
      ]
     },
     "execution_count": 35,
     "metadata": {},
     "output_type": "execute_result"
    }
   ],
   "source": [
    "# Displaying the first five rows of the DataFrame\n",
    "data.head()"
   ]
  },
  {
   "cell_type": "code",
   "execution_count": 37,
   "id": "1ad45928-668c-494f-8a3e-d7948fef89ad",
   "metadata": {},
   "outputs": [
    {
     "name": "stdout",
     "output_type": "stream",
     "text": [
      "<class 'pandas.core.frame.DataFrame'>\n",
      "RangeIndex: 150 entries, 0 to 149\n",
      "Data columns (total 6 columns):\n",
      " #   Column         Non-Null Count  Dtype  \n",
      "---  ------         --------------  -----  \n",
      " 0   Id             150 non-null    int64  \n",
      " 1   SepalLengthCm  150 non-null    float64\n",
      " 2   SepalWidthCm   150 non-null    float64\n",
      " 3   PetalLengthCm  150 non-null    float64\n",
      " 4   PetalWidthCm   150 non-null    float64\n",
      " 5   Species        150 non-null    object \n",
      "dtypes: float64(4), int64(1), object(1)\n",
      "memory usage: 7.2+ KB\n"
     ]
    }
   ],
   "source": [
    "# Displaying a summary of the DataFrame, including data types and non-null counts\n",
    "data.info()"
   ]
  },
  {
   "cell_type": "code",
   "execution_count": 41,
   "id": "e83933f6-137e-4f11-9498-27f0b7e81692",
   "metadata": {},
   "outputs": [
    {
     "data": {
      "text/plain": [
       "Id               0\n",
       "SepalLengthCm    0\n",
       "SepalWidthCm     0\n",
       "PetalLengthCm    0\n",
       "PetalWidthCm     0\n",
       "Species          0\n",
       "dtype: int64"
      ]
     },
     "execution_count": 41,
     "metadata": {},
     "output_type": "execute_result"
    }
   ],
   "source": [
    "# Checking for missing values in each column of the DataFrame by summing the null entries\n",
    "data.isnull().sum()"
   ]
  },
  {
   "cell_type": "code",
   "execution_count": 47,
   "id": "dad39023-aaff-4dc3-a0a2-0682453e2ae5",
   "metadata": {},
   "outputs": [
    {
     "name": "stdout",
     "output_type": "stream",
     "text": [
      "3.758666666666666\n"
     ]
    }
   ],
   "source": [
    "# Calculating the mean of the 'PetalLengthCm' column and printing the result\n",
    "mean = data['PetalLengthCm'].mean()\n",
    "print(mean)"
   ]
  },
  {
   "cell_type": "code",
   "execution_count": 51,
   "id": "923cbf70-9d29-4ec3-b948-88dfc01c72cb",
   "metadata": {},
   "outputs": [
    {
     "name": "stdout",
     "output_type": "stream",
     "text": [
      "4.35\n"
     ]
    }
   ],
   "source": [
    "# Calculating the median of the 'PetalLengthCm' column and printing the result\n",
    "median = data['PetalLengthCm'].median()\n",
    "print(median)"
   ]
  },
  {
   "cell_type": "code",
   "execution_count": 53,
   "id": "fa24f54c-5d76-4945-ae1d-1e681d42be2c",
   "metadata": {},
   "outputs": [
    {
     "name": "stdout",
     "output_type": "stream",
     "text": [
      "0    1.5\n",
      "Name: PetalLengthCm, dtype: float64\n"
     ]
    }
   ],
   "source": [
    "# Calculating the mode of the 'PetalLengthCm' column and printing the result\n",
    "mode = data['PetalLengthCm'].mode()\n",
    "print(mode)"
   ]
  },
  {
   "cell_type": "code",
   "execution_count": 59,
   "id": "ff1051fa-5f08-4ac0-bb76-d113ed6dde62",
   "metadata": {},
   "outputs": [
    {
     "data": {
      "text/plain": [
       "<Axes: xlabel='PetalLengthCm', ylabel='Density'>"
      ]
     },
     "execution_count": 59,
     "metadata": {},
     "output_type": "execute_result"
    },
    {
     "data": {
      "image/png": "[encoded data removed]",
      "text/plain": [
       "<Figure size 640x480 with 1 Axes>"
      ]
     },
     "metadata": {},
     "output_type": "display_data"
    }
   ],
   "source": [
    "# Plotting the distribution of the 'PetalLengthCm' column using a histogram and kernel density estimate (KDE) with 10 bins\n",
    "ans = data['PetalLengthCm']\n",
    "ans = data['PetalLengthCm']\n",
    "sns.distplot(ans,bins=10,hist=True,kde=True,label = 'PetalLengthCm')"
   ]
  },
  {
   "cell_type": "code",
   "execution_count": 71,
   "id": "28327760-1024-40ed-8fdf-53ac95d6bc2a",
   "metadata": {},
   "outputs": [
    {
     "data": {
      "image/png": "[encoded data removed]",
      "text/plain": [
       "<Figure size 640x480 with 1 Axes>"
      ]
     },
     "metadata": {},
     "output_type": "display_data"
    }
   ],
   "source": [
    "# Creating a bar chart with 'd1' on the x-axis and 'd2' on the y-axis, and customizing the appearance\n",
    "plt.bar(d1, d2, color='skyblue')\n",
    "plt.xlabel(\"SepalLengthCm\")  # Labeling the x-axis\n",
    "plt.ylabel(\"SepalWidthCm\")    # Labeling the y-axis\n",
    "plt.title(\"Bar\")               # Setting the title of the chart\n",
    "plt.show()                     # Displaying the bar chart"
   ]
  },
  {
   "cell_type": "code",
   "execution_count": 73,
   "id": "6c26136a-60ea-4dee-be9c-6eca75899357",
   "metadata": {},
   "outputs": [],
   "source": [
    "d1 = data['PetalLengthCm']\n",
    "d2 = data['PetalWidthCm']"
   ]
  },
  {
   "cell_type": "code",
   "execution_count": 75,
   "id": "2c05a0c1-279f-428f-a477-4331403bb986",
   "metadata": {},
   "outputs": [
    {
     "data": {
      "image/png": "[encoded data removed]",
      "text/plain": [
       "<Figure size 640x480 with 1 Axes>"
      ]
     },
     "metadata": {},
     "output_type": "display_data"
    }
   ],
   "source": [
    "# Creating a bar chart with 'd1' representing Petal Length on the x-axis and 'd2' representing Petal Width on the y-axis\n",
    "plt.bar(d1, d2, color='skyblue')\n",
    "plt.xlabel(\"PetalLengthCm\")  # Labeling the x-axis with 'PetalLengthCm'\n",
    "plt.ylabel(\"PetalWidthCm\")    # Labeling the y-axis with 'PetalWidthCm'\n",
    "plt.title(\"Bar\")               # Setting the title of the chart\n",
    "plt.show()                     # Displaying the bar chart\n"
   ]
  },
  {
   "cell_type": "code",
   "execution_count": 81,
   "id": "884f05fe-3127-462c-9a6e-d2c158255812",
   "metadata": {},
   "outputs": [],
   "source": [
    "d1 = data['Species']"
   ]
  },
  {
   "cell_type": "code",
   "execution_count": 97,
   "id": "042568c7-56de-4ac3-87c8-07418648f7fd",
   "metadata": {},
   "outputs": [
    {
     "data": {
      "image/png": "[encoded data removed]",
      "text/plain": [
       "<Figure size 640x480 with 1 Axes>"
      ]
     },
     "metadata": {},
     "output_type": "display_data"
    }
   ],
   "source": [
    "# Creating a bar chart with 'd1' representing species on the x-axis and 'd2' representing height on the y-axis\n",
    "plt.bar(d1, d2, color='skyblue')\n",
    "plt.xlabel(\"Species\")  # Labeling the x-axis with 'Species'\n",
    "plt.ylabel(\"Height\")    # Labeling the y-axis with 'Height'\n",
    "plt.title(\"Bar\")        # Setting the title of the chart\n",
    "plt.show()              # Displaying the bar chart\n"
   ]
  },
  {
   "cell_type": "code",
   "execution_count": 99,
   "id": "c3e89201-623a-4ce3-8746-be55f196f366",
   "metadata": {},
   "outputs": [
    {
     "data": {
      "text/plain": [
       "4.3"
      ]
     },
     "execution_count": 99,
     "metadata": {},
     "output_type": "execute_result"
    }
   ],
   "source": [
    "# Finding the minimum value in the 'SepalLengthCm' column of the DataFrame\n",
    "data['SepalLengthCm'].min()"
   ]
  },
  {
   "cell_type": "code",
   "execution_count": 101,
   "id": "fe8e2890-ab04-46ae-982f-8b87360dda5c",
   "metadata": {},
   "outputs": [
    {
     "data": {
      "text/plain": [
       "7.9"
      ]
     },
     "execution_count": 101,
     "metadata": {},
     "output_type": "execute_result"
    }
   ],
   "source": [
    "# Finding the maximum value in the 'SepalLengthCm' column of the DataFrame\n",
    "data['SepalLengthCm'].max()"
   ]
  },
  {
   "cell_type": "code",
   "execution_count": 105,
   "id": "5a893b2c-a328-4483-bae6-47b3495705d6",
   "metadata": {},
   "outputs": [
    {
     "data": {
      "text/plain": [
       "3.6000000000000005"
      ]
     },
     "execution_count": 105,
     "metadata": {},
     "output_type": "execute_result"
    }
   ],
   "source": [
    "# Calculating the range of the 'SepalLengthCm' column by subtracting the minimum value from the maximum value\n",
    "data['SepalLengthCm'].max() - data['SepalLengthCm'].min()"
   ]
  },
  {
   "cell_type": "code",
   "execution_count": 107,
   "id": "ffc7ae86-79dd-4399-8b81-b625a40e7868",
   "metadata": {},
   "outputs": [
    {
     "data": {
      "text/plain": [
       "0.6856935123042505"
      ]
     },
     "execution_count": 107,
     "metadata": {},
     "output_type": "execute_result"
    }
   ],
   "source": [
    "# Calculating the variance of the 'SepalLengthCm' column in the DataFrame\n",
    "data['SepalLengthCm'].var()"
   ]
  },
  {
   "cell_type": "code",
   "execution_count": 109,
   "id": "92488fa5-d96d-4627-83b6-804e1a163dad",
   "metadata": {},
   "outputs": [
    {
     "data": {
      "text/plain": [
       "0.8280661279778629"
      ]
     },
     "execution_count": 109,
     "metadata": {},
     "output_type": "execute_result"
    }
   ],
   "source": [
    "# Calculating the standard deviation of the 'SepalLengthCm' column in the DataFrame\n",
    "data['SepalLengthCm'].std()"
   ]
  },
  {
   "cell_type": "code",
   "execution_count": 111,
   "id": "5f5f8d38-fd0e-4177-8a6a-792cbe9d9975",
   "metadata": {},
   "outputs": [
    {
     "data": {
      "text/plain": [
       "6.4"
      ]
     },
     "execution_count": 111,
     "metadata": {},
     "output_type": "execute_result"
    }
   ],
   "source": [
    "# Calculating the 75th percentile (Q3) of the 'SepalLengthCm' column in the DataFrame\n",
    "Q2 = data['SepalLengthCm'].quantile(0.75)"
   ]
  },
  {
   "cell_type": "code",
   "execution_count": 113,
   "id": "df1b17b7-766a-4c64-9e51-f9ebb8e076c5",
   "metadata": {},
   "outputs": [
    {
     "data": {
      "text/plain": [
       "5.1"
      ]
     },
     "execution_count": 113,
     "metadata": {},
     "output_type": "execute_result"
    }
   ],
   "source": [
    "# Calculating the 25th percentile (Q1) of the 'SepalLengthCm' column in the DataFrame\n",
    "Q2 = data['SepalLengthCm'].quantile(0.25)"
   ]
  },
  {
   "cell_type": "code",
   "execution_count": 115,
   "id": "98672618-1b7c-4e11-9228-d02b15a772e3",
   "metadata": {},
   "outputs": [
    {
     "data": {
      "text/plain": [
       "5.8"
      ]
     },
     "execution_count": 115,
     "metadata": {},
     "output_type": "execute_result"
    }
   ],
   "source": [
    "# Calculating the 50th percentile (median) of the 'SepalLengthCm' column in the DataFrame\n",
    "Q2 = data['SepalLengthCm'].quantile(0.5)"
   ]
  },
  {
   "cell_type": "code",
   "execution_count": 125,
   "id": "0fc88e9f-583b-4610-8c14-159f296621aa",
   "metadata": {},
   "outputs": [
    {
     "data": {
      "image/png": "[encoded data removed]",
      "text/plain": [
       "<Figure size 640x480 with 1 Axes>"
      ]
     },
     "metadata": {},
     "output_type": "display_data"
    }
   ],
   "source": [
    "# Creating a box plot for the 'SepalLengthCm' column to visualize its distribution and identify potential outliers\n",
    "plt.boxplot(data['SepalLengthCm'])\n",
    "plt.show()  # Displaying the box plot"
   ]
  },
  {
   "cell_type": "code",
   "execution_count": 127,
   "id": "b042b725-4816-4a3f-86e1-14f3007dad0a",
   "metadata": {},
   "outputs": [
    {
     "data": {
      "text/plain": [
       "0.3149109566369728"
      ]
     },
     "execution_count": 127,
     "metadata": {},
     "output_type": "execute_result"
    }
   ],
   "source": [
    "# Calculating the skewness of the 'SepalLengthCm' column to assess the asymmetry of its distribution\n",
    "data['SepalLengthCm'].skew()"
   ]
  },
  {
   "cell_type": "code",
   "execution_count": 129,
   "id": "a7c7e9d0-6faa-4d78-90bb-51f843f272b6",
   "metadata": {},
   "outputs": [
    {
     "data": {
      "text/plain": [
       "-0.5520640413156395"
      ]
     },
     "execution_count": 129,
     "metadata": {},
     "output_type": "execute_result"
    }
   ],
   "source": [
    "# Calculating the kurtosis of the 'SepalLengthCm' column to evaluate the \"tailedness\" of its distribution\n",
    "data['SepalLengthCm'].kurt()"
   ]
  }
 ],
 "metadata": {
  "kernelspec": {
   "display_name": "Python 3 (ipykernel)",
   "language": "python",
   "name": "python3"
  },
  "language_info": {
   "codemirror_mode": {
    "name": "ipython",
    "version": 3
   },
   "file_extension": ".py",
   "mimetype": "text/x-python",
   "name": "python",
   "nbconvert_exporter": "python",
   "pygments_lexer": "ipython3",
   "version": "3.12.4"
  }
 },
 "nbformat": 4,
 "nbformat_minor": 5
}
